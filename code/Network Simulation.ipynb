{
 "cells": [
  {
   "cell_type": "markdown",
   "id": "3ec2c4a1",
   "metadata": {},
   "source": [
    "## A Network simulation for covid-19 growth before and after lockdown\n",
    "author: Kunlun Zhu   \n",
    "Shanghai estimate people 25 million   \n",
    "our simulation node 2500   \n",
    "we initiate the affected people with 10   \n",
    "the contiguous rate would be 9% without lockdown, 3% with lockdown   \n"
   ]
  },
  {
   "cell_type": "code",
   "execution_count": 13,
   "id": "e3da1aca",
   "metadata": {},
   "outputs": [],
   "source": [
    "#!/usr/bin/python3.9 \n",
    "# -*- coding: utf-8 -*-  \n",
    "#author Kunlun Zhu 2022/7/11\n",
    "#setup the python environment\n",
    "import numpy as np\n",
    "import random\n",
    "import networkx as nx\n",
    "import matplotlib.pyplot as plt\n",
    "import logging"
   ]
  },
  {
   "cell_type": "code",
   "execution_count": 35,
   "id": "eba7d86d",
   "metadata": {},
   "outputs": [],
   "source": [
    "#global variables\n",
    "node_num = 2500\n",
    "Adj = [[0] * 2500 for i in range(2500)]\n",
    "affected_bool_l = [0] * 2500 #lockdown affected people\n",
    "affected_bool_ul = [0] * 2500 #affected people without lockdown\n",
    "affect_day_l = [0] * 2500\n",
    "affect_day_ul = [0] * 2500\n",
    "affect_list_l = []\n",
    "affect_list_ul = []\n",
    "linklist = []\n",
    "affected_num = 5\n",
    "simulated_day = 15\n",
    "growth_num_l = []\n",
    "total_l = []\n",
    "growth_num_ul = []\n",
    "total_ul = []\n",
    "contigious_rate_l = 0.003\n",
    "contigious_rate_ul = 0.004\n",
    "logger = logging.getLogger(__name__)"
   ]
  },
  {
   "cell_type": "code",
   "execution_count": 3,
   "id": "539f0408",
   "metadata": {},
   "outputs": [],
   "source": [
    "def init_adj():\n",
    "    global Adj\n",
    "    global linklist\n",
    "    for i in range(node_num):\n",
    "        for j in range(node_num):\n",
    "            rand = np.random.rand()\n",
    "            if rand < 0.025:\n",
    "                Adj[i][j] = 1\n",
    "                Adj[j][i] = 1\n",
    "    for i in range(node_num):\n",
    "        Adj[i][i] = 0 #make sure the network is not self-looped\n",
    "    for i in range(node_num): #set up the link_list\n",
    "        temp_list = []\n",
    "        for j in range(node_num):\n",
    "            if Adj[i][j] == 1:\n",
    "                temp_list.append(j)\n",
    "        linklist.append(temp_list)"
   ]
  },
  {
   "cell_type": "code",
   "execution_count": 4,
   "id": "1e1304de",
   "metadata": {},
   "outputs": [],
   "source": [
    "def check_connectivity(A):\n",
    "    raise NotImplementError"
   ]
  },
  {
   "cell_type": "code",
   "execution_count": 5,
   "id": "d41037d5",
   "metadata": {},
   "outputs": [],
   "source": [
    "def check_smallworld_phenomenon(A):\n",
    "    raise NotImplementError"
   ]
  },
  {
   "cell_type": "code",
   "execution_count": 6,
   "id": "2c25be2d",
   "metadata": {},
   "outputs": [],
   "source": [
    "def random_init(num):\n",
    "    global affect_list_l\n",
    "    global affect_list_ul\n",
    "    rand_list = np.random.randint(low=0,high=node_num, size=num)\n",
    "    affect_list_l[:] = rand_list.copy()\n",
    "    affect_list_ul[:] = rand_list.copy()\n",
    "    return"
   ]
  },
  {
   "cell_type": "code",
   "execution_count": 30,
   "id": "5f493afe",
   "metadata": {},
   "outputs": [],
   "source": [
    "def simulate_one_day(is_lockdown:bool, affect_rate:float=0.1):\n",
    "    global total_l\n",
    "    global total_ul\n",
    "    global growth_num_l\n",
    "    global growth_num_ul\n",
    "    if is_lockdown:\n",
    "        increase = 0\n",
    "        for node in affect_list_l:\n",
    "            if affect_day_l[node] > 3: #after lockdown affected people have two days time to affect others\n",
    "                continue\n",
    "            else:\n",
    "                for link in linklist[node]:\n",
    "                    if link in affect_list_l:\n",
    "                        continue\n",
    "                    else:\n",
    "                        if random.random() < affect_rate:\n",
    "                            affect_list_l.append(link)\n",
    "                            increase += 1\n",
    "        growth_num_l.append(increase)\n",
    "        total_l.append(len(affect_list_l))\n",
    "        print('todays increase:', increase)\n",
    "        print('current total_l:', len(affect_list_l))\n",
    "    else:\n",
    "        increase = 0\n",
    "        for node in affect_list_ul:\n",
    "            if affect_day_ul[node] > 4:\n",
    "                continue\n",
    "            else:\n",
    "                for link in linklist[node]:\n",
    "                    if link in affect_list_ul:\n",
    "                        continue\n",
    "                    else:\n",
    "                        if random.random() < affect_rate:\n",
    "                            affect_list_ul.append(link)\n",
    "                            increase += 1\n",
    "        growth_num_ul.append(increase)\n",
    "        total_ul.append(len(affect_list_ul))\n",
    "        print('todays increase:', increase)\n",
    "        print('current total_ul:', len(affect_list_ul))\n",
    "    return"
   ]
  },
  {
   "cell_type": "code",
   "execution_count": 8,
   "id": "81c5053a",
   "metadata": {},
   "outputs": [],
   "source": [
    "def increase_affect_day(is_lockdown:bool):\n",
    "    global affect_day_l\n",
    "    global affect_day_ul\n",
    "    if is_lockdown:\n",
    "        for i in affect_list_l:\n",
    "            affect_day_l[i] += 1\n",
    "    else:\n",
    "        for i in affect_list_ul:\n",
    "            affect_day_ul[i] += 1\n",
    "    return"
   ]
  },
  {
   "cell_type": "code",
   "execution_count": 21,
   "id": "6e3974f3",
   "metadata": {},
   "outputs": [],
   "source": [
    "def main():\n",
    "    init_adj()\n",
    "    random_init(affected_num)\n",
    "    for i in range(simulated_day):\n",
    "        simulate_one_day(True, contigious_rate_l)\n",
    "        increase_affect_day(True)\n",
    "    for i in range(simulated_day):\n",
    "        simulate_one_day(False, contigious_rate_ul)\n",
    "        increase_affect_day(True)\n",
    "    "
   ]
  },
  {
   "cell_type": "code",
   "execution_count": 36,
   "id": "59bf71f9",
   "metadata": {
    "scrolled": true
   },
   "outputs": [
    {
     "name": "stdout",
     "output_type": "stream",
     "text": [
      "todays increase: 3\n",
      "current total_l: 8\n",
      "todays increase: 3\n",
      "current total_l: 11\n",
      "todays increase: 2\n",
      "current total_l: 13\n",
      "todays increase: 5\n",
      "current total_l: 18\n",
      "todays increase: 4\n",
      "current total_l: 22\n",
      "todays increase: 10\n",
      "current total_l: 32\n",
      "todays increase: 9\n",
      "current total_l: 41\n",
      "todays increase: 10\n",
      "current total_l: 51\n",
      "todays increase: 15\n",
      "current total_l: 66\n",
      "todays increase: 15\n",
      "current total_l: 81\n",
      "todays increase: 30\n",
      "current total_l: 111\n",
      "todays increase: 24\n",
      "current total_l: 135\n",
      "todays increase: 31\n",
      "current total_l: 166\n",
      "todays increase: 23\n",
      "current total_l: 189\n",
      "todays increase: 40\n",
      "current total_l: 229\n",
      "todays increase: 11\n",
      "current total_ul: 16\n",
      "todays increase: 11\n",
      "current total_ul: 27\n",
      "todays increase: 42\n",
      "current total_ul: 69\n",
      "todays increase: 57\n",
      "current total_ul: 126\n",
      "todays increase: 58\n",
      "current total_ul: 184\n",
      "todays increase: 120\n",
      "current total_ul: 304\n",
      "todays increase: 205\n",
      "current total_ul: 509\n",
      "todays increase: 309\n",
      "current total_ul: 818\n",
      "todays increase: 365\n",
      "current total_ul: 1183\n",
      "todays increase: 307\n",
      "current total_ul: 1490\n",
      "todays increase: 287\n",
      "current total_ul: 1777\n",
      "todays increase: 234\n",
      "current total_ul: 2011\n",
      "todays increase: 154\n",
      "current total_ul: 2165\n",
      "todays increase: 118\n",
      "current total_ul: 2283\n",
      "todays increase: 77\n",
      "current total_ul: 2360\n"
     ]
    }
   ],
   "source": [
    "if __name__ == '__main__':\n",
    "    main()"
   ]
  },
  {
   "cell_type": "code",
   "execution_count": 37,
   "id": "a1bbe62c",
   "metadata": {},
   "outputs": [
    {
     "name": "stdout",
     "output_type": "stream",
     "text": [
      "growth_num_l: [3, 3, 2, 5, 4, 10, 9, 10, 15, 15, 30, 24, 31, 23, 40]\n",
      "growth_num_ul: [11, 11, 42, 57, 58, 120, 205, 309, 365, 307, 287, 234, 154, 118, 77]\n",
      "total_l: [8, 11, 13, 18, 22, 32, 41, 51, 66, 81, 111, 135, 166, 189, 229]\n",
      "total_ul: [16, 27, 69, 126, 184, 304, 509, 818, 1183, 1490, 1777, 2011, 2165, 2283, 2360]\n"
     ]
    }
   ],
   "source": [
    "print('growth_num_l:', growth_num_l)\n",
    "print('growth_num_ul:', growth_num_ul)\n",
    "print('total_l:', total_l)\n",
    "print('total_ul:', total_ul)"
   ]
  },
  {
   "cell_type": "code",
   "execution_count": 40,
   "id": "86dfec9a",
   "metadata": {},
   "outputs": [
    {
     "data": {
      "image/png": "[encoded data removed]",
      "text/plain": [
       "<Figure size 432x288 with 1 Axes>"
      ]
     },
     "metadata": {
      "needs_background": "light"
     },
     "output_type": "display_data"
    }
   ],
   "source": [
    "day_list = range(15)\n",
    "plt.plot(day_list, growth_num_l, label='lock')\n",
    "plt.plot(day_list, growth_num_ul, label='unlock')\n",
    "plt.xlabel('day')\n",
    "plt.ylabel('affection growth')\n",
    "plt.legend(loc='upper left')\n",
    "plt.title(\"Gorwth of each day for different policy\")\n",
    "plt.show()"
   ]
  },
  {
   "cell_type": "code",
   "execution_count": 42,
   "id": "85d7c2bf",
   "metadata": {},
   "outputs": [
    {
     "data": {
      "image/png": "[encoded data removed]",
      "text/plain": [
       "<Figure size 432x288 with 1 Axes>"
      ]
     },
     "metadata": {
      "needs_background": "light"
     },
     "output_type": "display_data"
    }
   ],
   "source": [
    "plt.plot(day_list, total_l, label='lock')\n",
    "plt.plot(day_list, total_ul, label='unlock')\n",
    "plt.xlabel('day')\n",
    "plt.ylabel('affection total number')\n",
    "plt.legend(loc='upper left')\n",
    "plt.title(\"total affection for different policy\")\n",
    "plt.show()"
   ]
  },
  {
   "cell_type": "code",
   "execution_count": null,
   "id": "605f33f2",
   "metadata": {},
   "outputs": [],
   "source": []
  }
 ],
 "metadata": {
  "kernelspec": {
   "display_name": "Python 3 (ipykernel)",
   "language": "python",
   "name": "python3"
  },
  "language_info": {
   "codemirror_mode": {
    "name": "ipython",
    "version": 3
   },
   "file_extension": ".py",
   "mimetype": "text/x-python",
   "name": "python",
   "nbconvert_exporter": "python",
   "pygments_lexer": "ipython3",
   "version": "3.9.7"
  }
 },
 "nbformat": 4,
 "nbformat_minor": 5
}
